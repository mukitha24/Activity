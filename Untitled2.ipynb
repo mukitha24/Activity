{
  "cells": [
    {
      "cell_type": "code",
      "execution_count": 3,
      "metadata": {
        "colab": {
          "base_uri": "https://localhost:8080/"
        },
        "id": "qKcHKIM9v9XJ",
        "outputId": "a03e2eeb-a5d1-4f24-a3b5-85aeceb93fc9"
      },
      "outputs": [
        {
          "output_type": "stream",
          "name": "stdout",
          "text": [
            "drive/MyDrive/bank_train.csv\n"
          ]
        }
      ],
      "source": [
        "ls drive/MyDrive/bank_train.csv"
      ]
    },
    {
      "cell_type": "code",
      "execution_count": 4,
      "metadata": {
        "colab": {
          "base_uri": "https://localhost:8080/"
        },
        "id": "y2tQ16cKxUVv",
        "outputId": "d9b755b6-e5c2-43e8-c6df-d6acd2be48c1"
      },
      "outputs": [
        {
          "output_type": "stream",
          "name": "stdout",
          "text": [
            "        name  score\n",
            "0  Anastasia   12.5\n",
            "1       Dima    9.0\n",
            "2  Katherine   16.5\n",
            "3      James    NaN\n",
            "4      Emily    9.0\n",
            "5    Michael   20.0\n",
            "6    Matthew   14.5\n",
            "7      Laura    NaN\n",
            "8      Kevin    8.0\n",
            "9      Jonas   19.0\n"
          ]
        }
      ],
      "source": [
        "import pandas as pd\n",
        "import numpy as np\n",
        "exam_data = {\n",
        "    'name': ['Anastasia', 'Dima', 'Katherine', 'James', 'Emily', 'Michael', 'Matthew', 'Laura', 'Kevin', 'Jonas'],\n",
        "    'score': [12.5, 9, 16.5, np.nan, 9, 20, 14.5, np.nan, 8, 19],\n",
        "    'attempts': [1, 3, 4, 3, 5, 3, 6, 1, 7, 1]\n",
        "}\n",
        "\n",
        "df = pd.DataFrame(exam_data)\n",
        "selected_columns = df[['name', 'score']]\n",
        "print(selected_columns)\n"
      ]
    },
    {
      "cell_type": "code",
      "execution_count": 5,
      "metadata": {
        "colab": {
          "base_uri": "https://localhost:8080/"
        },
        "id": "5R7Lw87Z0J7n",
        "outputId": "e8567966-559e-4162-bbab-85fa97155563"
      },
      "outputs": [
        {
          "output_type": "stream",
          "name": "stdout",
          "text": [
            "        name  score  attempts\n",
            "2  Katherine   16.5         4\n",
            "4      Emily    9.0         5\n",
            "6    Matthew   14.5         6\n",
            "8      Kevin    8.0         7\n"
          ]
        }
      ],
      "source": [
        "attempts_3= df[df['attempts'] > 3]\n",
        "print(attempts_3)\n"
      ]
    },
    {
      "cell_type": "code",
      "execution_count": 6,
      "metadata": {
        "colab": {
          "base_uri": "https://localhost:8080/"
        },
        "id": "kSBzxTQA0aym",
        "outputId": "0adcb9a6-7c4d-40bd-cc02-af84ed1570f2"
      },
      "outputs": [
        {
          "output_type": "stream",
          "name": "stdout",
          "text": [
            "      name  age gender  salary\n",
            "1      Bob   35      M   70000\n",
            "2  Charlie   40      M   60000\n"
          ]
        }
      ],
      "source": [
        "\n",
        "data = {'name': ['Alice', 'Bob', 'Charlie', 'Dave'],\n",
        "\n",
        " 'age': [25, 35, 40, 28],\n",
        " 'gender': ['F', 'M', 'M', 'M'],\n",
        "'salary': [50000, 70000, 60000, 80000]}\n",
        "\n",
        "df = pd.DataFrame(data)\n",
        "rows=df[df['age'] > 30]\n",
        "print(rows)"
      ]
    },
    {
      "cell_type": "code",
      "execution_count": 7,
      "metadata": {
        "colab": {
          "base_uri": "https://localhost:8080/"
        },
        "id": "waFUExEt0uiT",
        "outputId": "3312b7f9-c07d-4601-e7db-a813e3c27e43"
      },
      "outputs": [
        {
          "output_type": "stream",
          "name": "stdout",
          "text": [
            "      name  age gender  salary\n",
            "0    Alice   25      F   50000\n",
            "2  Charlie   40      M   60000\n",
            "3     Dave   28      M   80000\n"
          ]
        }
      ],
      "source": [
        "name_e=df[df['name'].str.contains('e')]\n",
        "print(name_e)"
      ]
    },
    {
      "cell_type": "code",
      "execution_count": 8,
      "metadata": {
        "colab": {
          "base_uri": "https://localhost:8080/"
        },
        "id": "a-wJS6It1rLq",
        "outputId": "4890b8f9-6e54-4047-f019-b64c5848b272"
      },
      "outputs": [
        {
          "output_type": "stream",
          "name": "stdout",
          "text": [
            "   name  age gender  salary\n",
            "1   Bob   35      M   70000\n",
            "3  Dave   28      M   80000\n"
          ]
        }
      ],
      "source": [
        "select_rows=df[(df['gender'] == 'M') & (df['salary'] > 65000)]\n",
        "print(select_rows)"
      ]
    },
    {
      "cell_type": "code",
      "execution_count": 9,
      "metadata": {
        "colab": {
          "base_uri": "https://localhost:8080/"
        },
        "id": "SAgtYkbm2lAv",
        "outputId": "11200096-9d54-4ad4-8a08-08fc9e278275"
      },
      "outputs": [
        {
          "output_type": "stream",
          "name": "stdout",
          "text": [
            "      name  age\n",
            "0    Alice   25\n",
            "1      Bob   35\n",
            "2  Charlie   40\n",
            "3     Dave   28\n"
          ]
        }
      ],
      "source": [
        "select_cols=df[['name','age']]\n",
        "print(select_cols)"
      ]
    },
    {
      "cell_type": "code",
      "execution_count": 10,
      "metadata": {
        "colab": {
          "base_uri": "https://localhost:8080/"
        },
        "id": "tmhMlUPF287D",
        "outputId": "6f74db70-176c-45d1-c705-2ab695d83552"
      },
      "outputs": [
        {
          "output_type": "stream",
          "name": "stdout",
          "text": [
            "      age          job   marital  education default  balance housing loan  \\\n",
            "0      76      retired   married  secondary      no   2302.0      no   no   \n",
            "1      66      retired  divorced    unknown      no     53.0      no   no   \n",
            "2      51   management   married   tertiary      no   2455.0     yes   no   \n",
            "3      41  blue-collar   married  secondary      no    356.0     yes   no   \n",
            "4      51   technician   married  secondary      no  -1944.0     yes   no   \n",
            "...   ...          ...       ...        ...     ...      ...     ...  ...   \n",
            "4461   33   management   married   tertiary      no    133.0     yes   no   \n",
            "4462   39     services  divorced  secondary      no    687.0     yes   no   \n",
            "4463   40       admin.    single  secondary      no   2040.0     yes   no   \n",
            "4464   31   technician    single  secondary      no    628.0     yes   no   \n",
            "4465   70      retired  divorced    primary      no    383.0      no   no   \n",
            "\n",
            "        contact  day month  duration  campaign  pdays  previous poutcome  \\\n",
            "0     telephone    5   feb       110         1     87         2  failure   \n",
            "1      cellular   12   jul       562         4     -1         0  unknown   \n",
            "2      cellular   21   jul       553         1     -1         0  unknown   \n",
            "3      cellular   14   may        90         5     -1         0  unknown   \n",
            "4      cellular    7   may       623         1     -1         0  unknown   \n",
            "...         ...  ...   ...       ...       ...    ...       ...      ...   \n",
            "4461    unknown   26   may       308         4     -1         0  unknown   \n",
            "4462   cellular    9   jul       869         1     -1         0  unknown   \n",
            "4463   cellular   18   may       906         2    350         2  failure   \n",
            "4464    unknown   12   may      1083         2     -1         0  unknown   \n",
            "4465   cellular   28   apr        50         2     -1         0  unknown   \n",
            "\n",
            "     deposit  \n",
            "0         no  \n",
            "1        yes  \n",
            "2        yes  \n",
            "3         no  \n",
            "4        yes  \n",
            "...      ...  \n",
            "4461      no  \n",
            "4462     yes  \n",
            "4463     yes  \n",
            "4464      no  \n",
            "4465      no  \n",
            "\n",
            "[4466 rows x 17 columns]\n"
          ]
        }
      ],
      "source": [
        "df=pd.read_csv('/content/bank_train.csv')\n",
        "print(df)"
      ]
    },
    {
      "cell_type": "code",
      "execution_count": 11,
      "metadata": {
        "id": "HKOKxbBf4Ae2",
        "colab": {
          "base_uri": "https://localhost:8080/"
        },
        "outputId": "48f7f8bf-c9be-45a9-b2b7-0b1abc04b47b"
      },
      "outputs": [
        {
          "output_type": "stream",
          "name": "stdout",
          "text": [
            "      age          job   marital education default  balance housing loan  \\\n",
            "29     39  blue-collar  divorced   primary      no   1317.0     yes   no   \n",
            "39     31   unemployed    single   primary      no    163.0      no   no   \n",
            "56     49  blue-collar    single   primary      no    566.0     yes   no   \n",
            "66     53  blue-collar   married   primary     yes   -462.0      no   no   \n",
            "103    42  blue-collar    single   primary      no   4930.0      no   no   \n",
            "...   ...          ...       ...       ...     ...      ...     ...  ...   \n",
            "4411   55    housemaid   married   primary      no      0.0     yes   no   \n",
            "4422   80      retired   married   primary      no   1468.0      no   no   \n",
            "4451   41  blue-collar   married   primary      no    143.0     yes  yes   \n",
            "4452   53  blue-collar   married   primary      no    421.0     yes   no   \n",
            "4458   32  blue-collar   married   primary      no   -454.0     yes  yes   \n",
            "\n",
            "       contact  day month  duration  campaign  pdays  previous poutcome  \\\n",
            "29    cellular   20   nov       543         1    170         4    other   \n",
            "39    cellular   30   jan       707         2      2         1    other   \n",
            "56    cellular   25   jul       979         2     -1         0  unknown   \n",
            "66    cellular   29   jan       470         1     -1         0  unknown   \n",
            "103    unknown   18   jun       973         1     -1         0  unknown   \n",
            "...        ...  ...   ...       ...       ...    ...       ...      ...   \n",
            "4411  cellular   17   jul      1303         2     -1         0  unknown   \n",
            "4422  cellular   13   jan       330         3     -1         0  unknown   \n",
            "4451   unknown    2   jun       659         2     -1         0  unknown   \n",
            "4452  cellular   20   nov       677         1     -1         0  unknown   \n",
            "4458  cellular   18   may       801         5    355         2  failure   \n",
            "\n",
            "     deposit  \n",
            "29       yes  \n",
            "39       yes  \n",
            "56       yes  \n",
            "66       yes  \n",
            "103      yes  \n",
            "...      ...  \n",
            "4411     yes  \n",
            "4422     yes  \n",
            "4451     yes  \n",
            "4452     yes  \n",
            "4458     yes  \n",
            "\n",
            "[243 rows x 17 columns]\n"
          ]
        }
      ],
      "source": [
        "prime_subscribed=df.loc[(df['education'] == 'primary') & (df['deposit'] == 'yes')]\n",
        "\n",
        "print(prime_subscribed)"
      ]
    },
    {
      "cell_type": "code",
      "source": [],
      "metadata": {
        "id": "vyZL-4Qp6oFy"
      },
      "execution_count": 11,
      "outputs": []
    },
    {
      "cell_type": "code",
      "source": [
        "not_subscribed = df.loc[df['deposit'] == 'no']\n",
        "print(not_subscribed)\n"
      ],
      "metadata": {
        "colab": {
          "base_uri": "https://localhost:8080/"
        },
        "id": "i60ksEfD5dlI",
        "outputId": "8f9ee310-1059-49d5-a40a-5c5c3878ac03"
      },
      "execution_count": 12,
      "outputs": [
        {
          "output_type": "stream",
          "name": "stdout",
          "text": [
            "      age          job   marital  education default  balance housing loan  \\\n",
            "0      76      retired   married  secondary      no   2302.0      no   no   \n",
            "3      41  blue-collar   married  secondary      no    356.0     yes   no   \n",
            "6      59      retired   married  secondary      no    136.0      no   no   \n",
            "7      34  blue-collar   married    primary      no   5299.0     yes   no   \n",
            "9      44  blue-collar   married  secondary      no    879.0     yes   no   \n",
            "...   ...          ...       ...        ...     ...      ...     ...  ...   \n",
            "4457   43   management   married   tertiary      no   1336.0     yes  yes   \n",
            "4460   54      retired   married  secondary      no    522.0      no  yes   \n",
            "4461   33   management   married   tertiary      no    133.0     yes   no   \n",
            "4464   31   technician    single  secondary      no    628.0     yes   no   \n",
            "4465   70      retired  divorced    primary      no    383.0      no   no   \n",
            "\n",
            "        contact  day month  duration  campaign  pdays  previous poutcome  \\\n",
            "0     telephone    5   feb       110         1     87         2  failure   \n",
            "3      cellular   14   may        90         5     -1         0  unknown   \n",
            "6      cellular    6   aug       301         4     -1         0  unknown   \n",
            "7       unknown   26   jun        75         5     -1         0  unknown   \n",
            "9      cellular    3   apr       383         1     -1         0  unknown   \n",
            "...         ...  ...   ...       ...       ...    ...       ...      ...   \n",
            "4457   cellular   27   may        82         2    309         1  failure   \n",
            "4460   cellular   14   jul        81         3     -1         0  unknown   \n",
            "4461    unknown   26   may       308         4     -1         0  unknown   \n",
            "4464    unknown   12   may      1083         2     -1         0  unknown   \n",
            "4465   cellular   28   apr        50         2     -1         0  unknown   \n",
            "\n",
            "     deposit  \n",
            "0         no  \n",
            "3         no  \n",
            "6         no  \n",
            "7         no  \n",
            "9         no  \n",
            "...      ...  \n",
            "4457      no  \n",
            "4460      no  \n",
            "4461      no  \n",
            "4464      no  \n",
            "4465      no  \n",
            "\n",
            "[2354 rows x 17 columns]\n"
          ]
        }
      ]
    },
    {
      "cell_type": "code",
      "source": [
        "subscribed_with_loans = df.loc[(df['deposit'] == 'yes') & ((df['housing'] == 'yes') | (df['loan'] == 'yes'))]\n",
        "print(subscribed_with_loans)\n"
      ],
      "metadata": {
        "colab": {
          "base_uri": "https://localhost:8080/"
        },
        "id": "zi9D3C0j53Mm",
        "outputId": "5d47dda4-c088-46d1-e514-3c0d4c636f2b"
      },
      "execution_count": 13,
      "outputs": [
        {
          "output_type": "stream",
          "name": "stdout",
          "text": [
            "      age          job   marital  education default  balance housing loan  \\\n",
            "2      51   management   married   tertiary      no   2455.0     yes   no   \n",
            "4      51   technician   married  secondary      no  -1944.0     yes   no   \n",
            "15     37   management    single   tertiary      no    455.0     yes   no   \n",
            "17     24       admin.    single   tertiary      no      0.0     yes   no   \n",
            "21     33       admin.   married   tertiary      no     79.0     yes   no   \n",
            "...   ...          ...       ...        ...     ...      ...     ...  ...   \n",
            "4454   30  blue-collar    single  secondary      no    155.0     yes  yes   \n",
            "4458   32  blue-collar   married    primary      no   -454.0     yes  yes   \n",
            "4459   37   technician    single  secondary      no   3326.0     yes   no   \n",
            "4462   39     services  divorced  secondary      no    687.0     yes   no   \n",
            "4463   40       admin.    single  secondary      no   2040.0     yes   no   \n",
            "\n",
            "       contact  day month  duration  campaign  pdays  previous poutcome  \\\n",
            "2     cellular   21   jul       553         1     -1         0  unknown   \n",
            "4     cellular    7   may       623         1     -1         0  unknown   \n",
            "15    cellular   13   aug       904         6     -1         0  unknown   \n",
            "17    cellular   27   may       122         2     -1         0  unknown   \n",
            "21    cellular    5   may       389         1    195         4  success   \n",
            "...        ...  ...   ...       ...       ...    ...       ...      ...   \n",
            "4454  cellular    9   jul      1426         3     -1         0  unknown   \n",
            "4458  cellular   18   may       801         5    355         2  failure   \n",
            "4459   unknown   21   may       799         1     -1         0  unknown   \n",
            "4462  cellular    9   jul       869         1     -1         0  unknown   \n",
            "4463  cellular   18   may       906         2    350         2  failure   \n",
            "\n",
            "     deposit  \n",
            "2        yes  \n",
            "4        yes  \n",
            "15       yes  \n",
            "17       yes  \n",
            "21       yes  \n",
            "...      ...  \n",
            "4454     yes  \n",
            "4458     yes  \n",
            "4459     yes  \n",
            "4462     yes  \n",
            "4463     yes  \n",
            "\n",
            "[893 rows x 17 columns]\n"
          ]
        }
      ]
    },
    {
      "cell_type": "code",
      "source": [
        "secondary_not_subscribed = df.loc[(df['education'] == 'secondary') & (df['deposit'] == 'no')]\n",
        "print(secondary_not_subscribed)"
      ],
      "metadata": {
        "colab": {
          "base_uri": "https://localhost:8080/"
        },
        "id": "PnEMeCrJ7Znx",
        "outputId": "070f4710-3c82-4efe-e279-cdabb7742887"
      },
      "execution_count": 14,
      "outputs": [
        {
          "output_type": "stream",
          "name": "stdout",
          "text": [
            "      age          job  marital  education default  balance housing loan  \\\n",
            "0      76      retired  married  secondary      no   2302.0      no   no   \n",
            "3      41  blue-collar  married  secondary      no    356.0     yes   no   \n",
            "6      59      retired  married  secondary      no    136.0      no   no   \n",
            "9      44  blue-collar  married  secondary      no    879.0     yes   no   \n",
            "10     34     services  married  secondary      no   1637.0     yes   no   \n",
            "...   ...          ...      ...        ...     ...      ...     ...  ...   \n",
            "4446   35     services  married  secondary      no      0.0     yes   no   \n",
            "4453   31     services  married  secondary      no    505.0      no   no   \n",
            "4456   54  blue-collar  married  secondary      no   -102.0     yes   no   \n",
            "4460   54      retired  married  secondary      no    522.0      no  yes   \n",
            "4464   31   technician   single  secondary      no    628.0     yes   no   \n",
            "\n",
            "        contact  day month  duration  campaign  pdays  previous poutcome  \\\n",
            "0     telephone    5   feb       110         1     87         2  failure   \n",
            "3      cellular   14   may        90         5     -1         0  unknown   \n",
            "6      cellular    6   aug       301         4     -1         0  unknown   \n",
            "9      cellular    3   apr       383         1     -1         0  unknown   \n",
            "10     cellular   21   nov       107         4     -1         0  unknown   \n",
            "...         ...  ...   ...       ...       ...    ...       ...      ...   \n",
            "4446   cellular   24   jul       810         1     -1         0  unknown   \n",
            "4453   cellular   11   jul       773         3     -1         0  unknown   \n",
            "4456   cellular   27   aug       164         7     -1         0  unknown   \n",
            "4460   cellular   14   jul        81         3     -1         0  unknown   \n",
            "4464    unknown   12   may      1083         2     -1         0  unknown   \n",
            "\n",
            "     deposit  \n",
            "0         no  \n",
            "3         no  \n",
            "6         no  \n",
            "9         no  \n",
            "10        no  \n",
            "...      ...  \n",
            "4446      no  \n",
            "4453      no  \n",
            "4456      no  \n",
            "4460      no  \n",
            "4464      no  \n",
            "\n",
            "[1229 rows x 17 columns]\n"
          ]
        }
      ]
    },
    {
      "cell_type": "code",
      "source": [
        "unemployed_not_subscribed = df.loc[(df['job'] == 'unemployed') & (df['deposit'] == 'no')]\n",
        "print(unemployed_not_subscribed)"
      ],
      "metadata": {
        "colab": {
          "base_uri": "https://localhost:8080/"
        },
        "id": "SOVmpqe07joJ",
        "outputId": "09ab1ae7-13d1-4da1-938e-c04d6c006b7b"
      },
      "execution_count": 15,
      "outputs": [
        {
          "output_type": "stream",
          "name": "stdout",
          "text": [
            "      age         job   marital  education default  balance housing loan  \\\n",
            "74     37  unemployed    single  secondary      no     48.0      no   no   \n",
            "304    48  unemployed   married  secondary      no    855.0     yes   no   \n",
            "404    57  unemployed   married    primary      no      0.0     yes   no   \n",
            "464    47  unemployed  divorced  secondary      no    947.0      no   no   \n",
            "494    45  unemployed   married   tertiary      no   1148.0      no   no   \n",
            "550    55  unemployed   married    primary      no   8585.0      no   no   \n",
            "644    35  unemployed    single  secondary      no   2116.0     yes   no   \n",
            "690    31  unemployed    single    unknown      no    167.0      no   no   \n",
            "705    42  unemployed  divorced  secondary      no    759.0      no   no   \n",
            "811    38  unemployed   married  secondary      no    995.0      no   no   \n",
            "821    43  unemployed   married  secondary      no   1943.0     yes   no   \n",
            "827    52  unemployed   married  secondary      no   1639.0      no   no   \n",
            "856    31  unemployed   married  secondary      no     20.0      no   no   \n",
            "966    42  unemployed   married  secondary      no   -165.0     yes  yes   \n",
            "967    57  unemployed   married  secondary      no   1350.0      no   no   \n",
            "1003   35  unemployed   married  secondary      no   2080.0     yes   no   \n",
            "1123   50  unemployed   married  secondary      no   3478.0     yes   no   \n",
            "1236   43  unemployed  divorced  secondary      no   1854.0      no   no   \n",
            "1351   38  unemployed  divorced  secondary      no    189.0     yes  yes   \n",
            "1424   40  unemployed  divorced  secondary      no    262.0     yes   no   \n",
            "1633   41  unemployed    single   tertiary      no   4517.0     yes   no   \n",
            "1828   31  unemployed    single  secondary      no    209.0     yes   no   \n",
            "1848   41  unemployed   married    primary      no    183.0     yes   no   \n",
            "1850   30  unemployed   married  secondary      no    142.0     yes   no   \n",
            "1961   58  unemployed   married  secondary      no    610.0     yes   no   \n",
            "2060   33  unemployed    single  secondary      no    233.0     yes   no   \n",
            "2184   41  unemployed  divorced  secondary      no    271.0     yes   no   \n",
            "2292   40  unemployed   married  secondary      no   1289.0      no   no   \n",
            "2308   50  unemployed   married  secondary      no    297.0     yes   no   \n",
            "2364   43  unemployed   married  secondary      no    553.0      no   no   \n",
            "2464   55  unemployed   married    primary      no   1221.0      no  yes   \n",
            "2513   55  unemployed   married  secondary      no    512.0      no   no   \n",
            "2603   33  unemployed    single  secondary      no    682.0      no   no   \n",
            "2681   40  unemployed   married   tertiary      no   2430.0      no   no   \n",
            "2699   52  unemployed   married   tertiary      no   2133.0      no  yes   \n",
            "2754   55  unemployed   married   tertiary      no   5345.0      no   no   \n",
            "2762   43  unemployed   married  secondary      no    775.0      no   no   \n",
            "2827   54  unemployed    single  secondary      no   3611.0     yes   no   \n",
            "2913   44  unemployed   married    primary      no     97.0     yes   no   \n",
            "2929   40  unemployed   married  secondary      no   1077.0     yes  yes   \n",
            "3145   36  unemployed   married  secondary      no    439.0     yes   no   \n",
            "3263   47  unemployed    single  secondary      no   4819.0      no   no   \n",
            "3313   45  unemployed    single  secondary      no    382.0     yes  yes   \n",
            "3556   40  unemployed   married  secondary      no    219.0     yes   no   \n",
            "3704   59  unemployed    single  secondary      no    865.0      no   no   \n",
            "3733   46  unemployed  divorced  secondary      no      0.0      no   no   \n",
            "3745   58  unemployed    single   tertiary      no   2094.0      no   no   \n",
            "3905   33  unemployed   married   tertiary      no   3335.0      no   no   \n",
            "3949   46  unemployed   married  secondary      no   2940.0     yes   no   \n",
            "4027   36  unemployed    single   tertiary      no    221.0      no   no   \n",
            "4066   42  unemployed   married   tertiary      no      0.0      no   no   \n",
            "4102   30  unemployed    single  secondary      no      0.0     yes   no   \n",
            "4125   27  unemployed    single   tertiary      no   3060.0      no   no   \n",
            "4130   34  unemployed   married  secondary      no    200.0     yes   no   \n",
            "4140   37  unemployed   married  secondary      no   4769.0      no   no   \n",
            "4179   43  unemployed  divorced  secondary      no      0.0     yes   no   \n",
            "4181   46  unemployed   married  secondary      no  16397.0      no   no   \n",
            "4271   49  unemployed   married  secondary      no  13818.0      no   no   \n",
            "4289   27  unemployed    single  secondary      no      0.0     yes   no   \n",
            "4395   26  unemployed   married  secondary      no    285.0     yes   no   \n",
            "\n",
            "        contact  day month  duration  campaign  pdays  previous poutcome  \\\n",
            "74     cellular   31   jul        40        10     -1         0  unknown   \n",
            "304     unknown    9   may       241         2     -1         0  unknown   \n",
            "404    cellular   20   nov       231         2     -1         0  unknown   \n",
            "464    cellular    5   feb       124         2     -1         0  unknown   \n",
            "494    cellular   19   nov       782         2     -1         0  unknown   \n",
            "550   telephone   28   jan       201         2     -1         0  unknown   \n",
            "644    cellular   13   may       409         2     -1         0  unknown   \n",
            "690    cellular   20   nov       316         1     -1         0  unknown   \n",
            "705    cellular   28   jan        97         1    169         3  failure   \n",
            "811     unknown   26   jul        84         1     -1         0  unknown   \n",
            "821    cellular   18   nov       202         2     -1         0  unknown   \n",
            "827    cellular    8   aug        93         1     -1         0  unknown   \n",
            "856   telephone   18   nov        52         1     -1         0  unknown   \n",
            "966     unknown   27   may       179         3     -1         0  unknown   \n",
            "967    cellular   25   jun       131         1    388         1  failure   \n",
            "1003  telephone   14   apr       266         3     -1         0  unknown   \n",
            "1123    unknown   13   may       342         3     -1         0  unknown   \n",
            "1236   cellular   13   nov       131         2    197         1  success   \n",
            "1351   cellular   21   jul       105         2     -1         0  unknown   \n",
            "1424    unknown   14   may       163         5     -1         0  unknown   \n",
            "1633   cellular   20   nov       137         1     -1         0  unknown   \n",
            "1828   cellular    6   may       193         1     -1         0  unknown   \n",
            "1848   cellular   29   jul       271         1     -1         0  unknown   \n",
            "1850    unknown   20   may       350         4     -1         0  unknown   \n",
            "1961  telephone   29   jul       246         2     -1         0  unknown   \n",
            "2060    unknown    8   may       221         4     -1         0  unknown   \n",
            "2184    unknown   19   jun       196         2     -1         0  unknown   \n",
            "2292   cellular   26   may       260         2     -1         0  unknown   \n",
            "2308   cellular   31   jul        29        10     -1         0  unknown   \n",
            "2364  telephone    4   feb       125         1     -1         0  unknown   \n",
            "2464   cellular    8   jul       108         1     -1         0  unknown   \n",
            "2513   cellular   28   jan        70         1     -1         0  unknown   \n",
            "2603   cellular    5   feb       251         1     -1         0  unknown   \n",
            "2681   cellular   24   aug        87         2     -1         0  unknown   \n",
            "2699   cellular   18   jul        90         1     -1         0  unknown   \n",
            "2754    unknown    6   may       278         1     -1         0  unknown   \n",
            "2762   cellular   14   aug        98         1    106         1  failure   \n",
            "2827   cellular    5   feb        81         1     -1         0  unknown   \n",
            "2913    unknown    5   jun       105         3     -1         0  unknown   \n",
            "2929   cellular   17   nov       148         2     -1         0  unknown   \n",
            "3145  telephone    6   feb        18         6     -1         0  unknown   \n",
            "3263   cellular   18   nov       144         1     -1         0  unknown   \n",
            "3313   cellular   18   may       182         1     -1         0  unknown   \n",
            "3556    unknown    5   may       357         1     -1         0  unknown   \n",
            "3704   cellular    4   feb      1086         1     -1         0  unknown   \n",
            "3733   cellular   30   jul       638         3     -1         0  unknown   \n",
            "3745   cellular    1   jun       161         2     -1         0  unknown   \n",
            "3905   cellular   15   jun        92         1    301         6  failure   \n",
            "3949    unknown   29   may       195         2     -1         0  unknown   \n",
            "4027   cellular    3   feb       225         4     -1         0  unknown   \n",
            "4066   cellular    8   oct       113         1     -1         0  unknown   \n",
            "4102   cellular   16   apr       137         1     -1         0  unknown   \n",
            "4125   cellular   30   jan       533         1     -1         0  unknown   \n",
            "4130    unknown   26   may       155         6     -1         0  unknown   \n",
            "4140   cellular   29   jan       124         1     -1         0  unknown   \n",
            "4179   cellular   24   jul       229         2     -1         0  unknown   \n",
            "4181   cellular   18   nov       641         1     -1         0  unknown   \n",
            "4271   cellular   21   nov       201         1    113         2  failure   \n",
            "4289   cellular   21   jul        53         6     -1         0  unknown   \n",
            "4395   cellular    6   may       265         2    342         2  failure   \n",
            "\n",
            "     deposit  \n",
            "74        no  \n",
            "304       no  \n",
            "404       no  \n",
            "464       no  \n",
            "494       no  \n",
            "550       no  \n",
            "644       no  \n",
            "690       no  \n",
            "705       no  \n",
            "811       no  \n",
            "821       no  \n",
            "827       no  \n",
            "856       no  \n",
            "966       no  \n",
            "967       no  \n",
            "1003      no  \n",
            "1123      no  \n",
            "1236      no  \n",
            "1351      no  \n",
            "1424      no  \n",
            "1633      no  \n",
            "1828      no  \n",
            "1848      no  \n",
            "1850      no  \n",
            "1961      no  \n",
            "2060      no  \n",
            "2184      no  \n",
            "2292      no  \n",
            "2308      no  \n",
            "2364      no  \n",
            "2464      no  \n",
            "2513      no  \n",
            "2603      no  \n",
            "2681      no  \n",
            "2699      no  \n",
            "2754      no  \n",
            "2762      no  \n",
            "2827      no  \n",
            "2913      no  \n",
            "2929      no  \n",
            "3145      no  \n",
            "3263      no  \n",
            "3313      no  \n",
            "3556      no  \n",
            "3704      no  \n",
            "3733      no  \n",
            "3745      no  \n",
            "3905      no  \n",
            "3949      no  \n",
            "4027      no  \n",
            "4066      no  \n",
            "4102      no  \n",
            "4125      no  \n",
            "4130      no  \n",
            "4140      no  \n",
            "4179      no  \n",
            "4181      no  \n",
            "4271      no  \n",
            "4289      no  \n",
            "4395      no  \n"
          ]
        }
      ]
    },
    {
      "cell_type": "code",
      "source": [
        "successful_campaign = df.loc[(df['deposit'] == 'yes') & (df['poutcome'] == 'success')]\n",
        "\n",
        "print(successful_campaign)"
      ],
      "metadata": {
        "colab": {
          "base_uri": "https://localhost:8080/"
        },
        "id": "1ok7hc1A8aob",
        "outputId": "5a772e9a-19bf-4aff-b822-e31b04b047bd"
      },
      "execution_count": 16,
      "outputs": [
        {
          "output_type": "stream",
          "name": "stdout",
          "text": [
            "      age            job   marital  education default  balance housing loan  \\\n",
            "19     76  self-employed   married    unknown      no   4984.0      no   no   \n",
            "21     33         admin.   married   tertiary      no     79.0     yes   no   \n",
            "45     71        retired  divorced  secondary      no      0.0      no   no   \n",
            "51     68        retired   married  secondary      no   1146.0      no   no   \n",
            "52     46     management   married   tertiary      no    273.0     yes   no   \n",
            "...   ...            ...       ...        ...     ...      ...     ...  ...   \n",
            "4338   38         admin.  divorced  secondary      no     19.0     yes   no   \n",
            "4372   20        student    single  secondary      no    215.0      no   no   \n",
            "4376   42     technician   married  secondary      no    994.0     yes   no   \n",
            "4408   29      housemaid    single   tertiary      no     19.0      no   no   \n",
            "4448   27    blue-collar    single  secondary      no    535.0      no   no   \n",
            "\n",
            "        contact  day month  duration  campaign  pdays  previous poutcome  \\\n",
            "19    telephone   28   apr       403         1    182         1  success   \n",
            "21     cellular    5   may       389         1    195         4  success   \n",
            "45     cellular   26   feb       771         1    171         1  success   \n",
            "51     cellular   13   may       356         1     71         5  success   \n",
            "52     cellular   18   mar       910         2    184         4  success   \n",
            "...         ...  ...   ...       ...       ...    ...       ...      ...   \n",
            "4338   cellular    5   feb      1130         3    251         2  success   \n",
            "4372   cellular   24   feb       175         1     92         6  success   \n",
            "4376   cellular   12   nov       227         3     93         6  success   \n",
            "4408   cellular    4   may       268         1     88         4  success   \n",
            "4448   cellular   16   aug       265         3     95         4  success   \n",
            "\n",
            "     deposit  \n",
            "19       yes  \n",
            "21       yes  \n",
            "45       yes  \n",
            "51       yes  \n",
            "52       yes  \n",
            "...      ...  \n",
            "4338     yes  \n",
            "4372     yes  \n",
            "4376     yes  \n",
            "4408     yes  \n",
            "4448     yes  \n",
            "\n",
            "[392 rows x 17 columns]\n"
          ]
        }
      ]
    },
    {
      "cell_type": "code",
      "source": [
        "young_clients = df.loc[df['age']<= 30, ['education', 'balance']]\n",
        "print(young_clients)"
      ],
      "metadata": {
        "id": "7YySG2dH-QAN",
        "colab": {
          "base_uri": "https://localhost:8080/"
        },
        "outputId": "b9fd2112-3204-4e2b-c35c-96020ed6c1b8"
      },
      "execution_count": 17,
      "outputs": [
        {
          "output_type": "stream",
          "name": "stdout",
          "text": [
            "      education  balance\n",
            "17     tertiary      0.0\n",
            "22      primary    544.0\n",
            "26    secondary     30.0\n",
            "27    secondary    195.0\n",
            "40    secondary    743.0\n",
            "...         ...      ...\n",
            "4440   tertiary    674.0\n",
            "4448  secondary    535.0\n",
            "4449  secondary     81.0\n",
            "4454  secondary    155.0\n",
            "4455   tertiary    265.0\n",
            "\n",
            "[809 rows x 2 columns]\n"
          ]
        }
      ]
    }
  ],
  "metadata": {
    "colab": {
      "provenance": []
    },
    "kernelspec": {
      "display_name": "Python 3",
      "name": "python3"
    },
    "language_info": {
      "name": "python"
    }
  },
  "nbformat": 4,
  "nbformat_minor": 0
}